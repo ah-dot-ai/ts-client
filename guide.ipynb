{
 "cells": [
  {
   "cell_type": "markdown",
   "metadata": {},
   "source": [
    "### Create Payment Request Flow"
   ]
  },
  {
   "cell_type": "markdown",
   "metadata": {},
   "source": [
    "In this guide, we will walk you to through how to create a simple payment request using the Programmable FS APIs."
   ]
  },
  {
   "cell_type": "markdown",
   "metadata": {},
   "source": [
    "### Schematic\n",
    "A payment request typically requires the following backend functionality.\n",
    "* Create the _account holders_ for both of seller and buyer account.\n",
    "* Create the _account holder pipeline_ using the account holders.\n",
    "* Create _payment request_ using the account holder.\n",
    "\n",
    "**NOTE:** We will create the account holders manually using UI instead of using API directly for now.\n"
   ]
  },
  {
   "cell_type": "markdown",
   "metadata": {},
   "source": [
    "#### Setup Environment"
   ]
  },
  {
   "cell_type": "code",
   "execution_count": null,
   "metadata": {},
   "outputs": [],
   "source": []
  }
 ],
 "metadata": {
  "language_info": {
   "name": "python"
  },
  "orig_nbformat": 4
 },
 "nbformat": 4,
 "nbformat_minor": 2
}
